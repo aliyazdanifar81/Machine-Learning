{
 "cells": [
  {
   "cell_type": "code",
   "execution_count": 31,
   "id": "2d85d8e1-7a6d-4da0-9ea5-8dc172d25510",
   "metadata": {},
   "outputs": [],
   "source": [
    "import sys\n",
    "sys.path.append('/home/ali/Desktop/python/Machine Learning/Dataset_custom')"
   ]
  },
  {
   "cell_type": "code",
   "execution_count": 32,
   "id": "8721b297-7fb1-4188-9ceb-26f8a4d40ad2",
   "metadata": {},
   "outputs": [],
   "source": [
    "from sklearn.tree import export_graphviz\n",
    "from sklearn.preprocessing import LabelEncoder\n",
    "from sklearn.tree import DecisionTreeClassifier\n",
    "from load_data import LoadModel"
   ]
  },
  {
   "cell_type": "code",
   "execution_count": 33,
   "id": "29074e2a-de5e-41a9-91d3-05eaef4cd21f",
   "metadata": {},
   "outputs": [],
   "source": [
    "train, test = LoadModel().load_titanic()"
   ]
  },
  {
   "cell_type": "code",
   "execution_count": 34,
   "id": "917399b4-862a-4229-8273-aacd04359bb9",
   "metadata": {},
   "outputs": [],
   "source": [
    "x_train, y_train = train.drop([\"PassengerId\", \"Name\"], axis=1), train[\"Survived\"]\n",
    "mode = x_train.mode().iloc[0]\n",
    "mode[\"Cabin\"] = \"B96\"\n",
    "x_train = x_train.fillna(mode)\n",
    "encoded = LabelEncoder()\n",
    "x_train[\"Cabin\"] = encoded.fit_transform(x_train[\"Cabin\"])\n",
    "x_train[\"Ticket\"] = encoded.fit_transform(x_train[\"Ticket\"])\n",
    "x_train[\"Sex\"] = encoded.fit_transform(x_train[\"Sex\"])\n",
    "x_train[\"Embarked\"] = encoded.fit_transform(x_train[\"Embarked\"])"
   ]
  },
  {
   "cell_type": "code",
   "execution_count": 35,
   "id": "410a623e-8bf2-4eb7-8165-88829ef0019a",
   "metadata": {},
   "outputs": [],
   "source": [
    "out_test = test\n",
    "test = test.drop('Name', axis=1)\n",
    "mode = test.mode().iloc[0]\n",
    "mode[\"Cabin\"] = \"B57\"\n",
    "test = test.fillna(mode)\n",
    "encoded = LabelEncoder()\n",
    "test[\"Cabin\"] = encoded.fit_transform(test[\"Cabin\"])\n",
    "test[\"Ticket\"] = encoded.fit_transform(test[\"Ticket\"])\n",
    "test[\"Sex\"] = encoded.fit_transform(test[\"Sex\"])\n",
    "test[\"Embarked\"] = encoded.fit_transform(test[\"Embarked\"])"
   ]
  },
  {
   "cell_type": "code",
   "execution_count": 36,
   "id": "02d0ca5b-e512-4f21-a020-e665b868e296",
   "metadata": {},
   "outputs": [],
   "source": [
    "model = DecisionTreeClassifier().fit(x_train, y_train)"
   ]
  },
  {
   "cell_type": "code",
   "execution_count": 40,
   "id": "805af048-fe9a-4d01-ab11-5033af165022",
   "metadata": {},
   "outputs": [
    {
     "ename": "AttributeError",
     "evalue": "'Series' object has no attribute 'target_names'",
     "output_type": "error",
     "traceback": [
      "\u001b[0;31m---------------------------------------------------------------------------\u001b[0m",
      "\u001b[0;31mAttributeError\u001b[0m                            Traceback (most recent call last)",
      "\u001b[0;32m/tmp/ipykernel_6138/4270283002.py\u001b[0m in \u001b[0;36m?\u001b[0;34m()\u001b[0m\n\u001b[1;32m      1\u001b[0m export_graphviz(\n\u001b[1;32m      2\u001b[0m \u001b[0mmodel\u001b[0m\u001b[0;34m,\u001b[0m\u001b[0;34m\u001b[0m\u001b[0;34m\u001b[0m\u001b[0m\n\u001b[1;32m      3\u001b[0m \u001b[0mout_file\u001b[0m\u001b[0;34m=\u001b[0m\u001b[0;34m\"tree.dot\"\u001b[0m\u001b[0;34m,\u001b[0m\u001b[0;34m\u001b[0m\u001b[0;34m\u001b[0m\u001b[0m\n\u001b[0;32m----> 4\u001b[0;31m \u001b[0mclass_names\u001b[0m\u001b[0;34m=\u001b[0m\u001b[0my_train\u001b[0m\u001b[0;34m.\u001b[0m\u001b[0mtarget_names\u001b[0m\u001b[0;34m,\u001b[0m\u001b[0;34m\u001b[0m\u001b[0;34m\u001b[0m\u001b[0m\n\u001b[0m\u001b[1;32m      5\u001b[0m \u001b[0mrounded\u001b[0m\u001b[0;34m=\u001b[0m\u001b[0;32mTrue\u001b[0m\u001b[0;34m,\u001b[0m\u001b[0;34m\u001b[0m\u001b[0;34m\u001b[0m\u001b[0m\n\u001b[1;32m      6\u001b[0m \u001b[0mfilled\u001b[0m\u001b[0;34m=\u001b[0m\u001b[0;32mTrue\u001b[0m\u001b[0;34m\u001b[0m\u001b[0;34m\u001b[0m\u001b[0m\n\u001b[1;32m      7\u001b[0m )\n",
      "\u001b[0;32m~/.local/lib/python3.10/site-packages/pandas/core/generic.py\u001b[0m in \u001b[0;36m?\u001b[0;34m(self, name)\u001b[0m\n\u001b[1;32m   6200\u001b[0m             \u001b[0;32mand\u001b[0m \u001b[0mname\u001b[0m \u001b[0;32mnot\u001b[0m \u001b[0;32min\u001b[0m \u001b[0mself\u001b[0m\u001b[0;34m.\u001b[0m\u001b[0m_accessors\u001b[0m\u001b[0;34m\u001b[0m\u001b[0;34m\u001b[0m\u001b[0m\n\u001b[1;32m   6201\u001b[0m             \u001b[0;32mand\u001b[0m \u001b[0mself\u001b[0m\u001b[0;34m.\u001b[0m\u001b[0m_info_axis\u001b[0m\u001b[0;34m.\u001b[0m\u001b[0m_can_hold_identifiers_and_holds_name\u001b[0m\u001b[0;34m(\u001b[0m\u001b[0mname\u001b[0m\u001b[0;34m)\u001b[0m\u001b[0;34m\u001b[0m\u001b[0;34m\u001b[0m\u001b[0m\n\u001b[1;32m   6202\u001b[0m         ):\n\u001b[1;32m   6203\u001b[0m             \u001b[0;32mreturn\u001b[0m \u001b[0mself\u001b[0m\u001b[0;34m[\u001b[0m\u001b[0mname\u001b[0m\u001b[0;34m]\u001b[0m\u001b[0;34m\u001b[0m\u001b[0;34m\u001b[0m\u001b[0m\n\u001b[0;32m-> 6204\u001b[0;31m         \u001b[0;32mreturn\u001b[0m \u001b[0mobject\u001b[0m\u001b[0;34m.\u001b[0m\u001b[0m__getattribute__\u001b[0m\u001b[0;34m(\u001b[0m\u001b[0mself\u001b[0m\u001b[0;34m,\u001b[0m \u001b[0mname\u001b[0m\u001b[0;34m)\u001b[0m\u001b[0;34m\u001b[0m\u001b[0;34m\u001b[0m\u001b[0m\n\u001b[0m",
      "\u001b[0;31mAttributeError\u001b[0m: 'Series' object has no attribute 'target_names'"
     ]
    }
   ],
   "source": [
    "export_graphviz(\n",
    "model,\n",
    "out_file=\"tree.dot\",\n",
    "class_names=y_train.target_names,\n",
    "rounded=True,\n",
    "filled=True\n",
    ")"
   ]
  },
  {
   "cell_type": "code",
   "execution_count": null,
   "id": "43a43275-fe2a-4e2f-9227-b12d64ffb3b0",
   "metadata": {},
   "outputs": [],
   "source": []
  }
 ],
 "metadata": {
  "kernelspec": {
   "display_name": "Python 3 (ipykernel)",
   "language": "python",
   "name": "python3"
  },
  "language_info": {
   "codemirror_mode": {
    "name": "ipython",
    "version": 3
   },
   "file_extension": ".py",
   "mimetype": "text/x-python",
   "name": "python",
   "nbconvert_exporter": "python",
   "pygments_lexer": "ipython3",
   "version": "3.10.12"
  }
 },
 "nbformat": 4,
 "nbformat_minor": 5
}
