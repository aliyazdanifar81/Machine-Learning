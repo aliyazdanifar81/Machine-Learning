{
 "cells": [
  {
   "cell_type": "code",
   "execution_count": 1,
   "id": "8cc490a6-1f0d-4e7b-9594-dde744ba48d3",
   "metadata": {},
   "outputs": [],
   "source": [
    "import sys\n",
    "sys.path.append(\"/home/ali/Desktop/python/Machine Learning/Dataset_custom\")"
   ]
  },
  {
   "cell_type": "code",
   "execution_count": 2,
   "id": "5c600d73-5750-4447-9ce4-9125fe55203a",
   "metadata": {},
   "outputs": [
    {
     "ename": "ModuleNotFoundError",
     "evalue": "No module named 'load_data'",
     "output_type": "error",
     "traceback": [
      "\u001b[0;31m---------------------------------------------------------------------------\u001b[0m",
      "\u001b[0;31mModuleNotFoundError\u001b[0m                       Traceback (most recent call last)",
      "Cell \u001b[0;32mIn[2], line 1\u001b[0m\n\u001b[0;32m----> 1\u001b[0m \u001b[38;5;28;01mfrom\u001b[39;00m \u001b[38;5;21;01mload_data\u001b[39;00m \u001b[38;5;28;01mimport\u001b[39;00m LoadModel\n\u001b[1;32m      2\u001b[0m \u001b[38;5;28;01mfrom\u001b[39;00m \u001b[38;5;21;01msklearn\u001b[39;00m\u001b[38;5;21;01m.\u001b[39;00m\u001b[38;5;21;01mpreprocessing\u001b[39;00m \u001b[38;5;28;01mimport\u001b[39;00m LabelEncoder, StandardScaler\n\u001b[1;32m      3\u001b[0m \u001b[38;5;28;01mfrom\u001b[39;00m \u001b[38;5;21;01msklearn\u001b[39;00m\u001b[38;5;21;01m.\u001b[39;00m\u001b[38;5;21;01mlinear_model\u001b[39;00m \u001b[38;5;28;01mimport\u001b[39;00m LinearRegression, Lasso\n",
      "\u001b[0;31mModuleNotFoundError\u001b[0m: No module named 'load_data'"
     ]
    }
   ],
   "source": [
    "from load_data import LoadModel\n",
    "from sklearn.preprocessing import LabelEncoder, StandardScaler\n",
    "from sklearn.linear_model import LinearRegression, Lasso\n",
    "from sklearn.pipeline import Pipeline\n",
    "from sklearn.preprocessing import FunctionTransformer\n",
    "import matplotlib.pyplot as plt\n",
    "import numpy as np\n",
    "import pandas as pd\n",
    "import seaborn as sns"
   ]
  },
  {
   "cell_type": "code",
   "execution_count": 306,
   "id": "200ff2c7-a7f2-405b-9366-005f52edb328",
   "metadata": {},
   "outputs": [],
   "source": [
    "train, test = LoadModel().load_hpart()\n",
    "train_y = train[\"SalePrice\"]\n",
    "train = train.drop('SalePrice', axis=1)"
   ]
  },
  {
   "cell_type": "code",
   "execution_count": 307,
   "id": "80b02b58-287a-4e60-bc12-25e26966bd36",
   "metadata": {},
   "outputs": [],
   "source": [
    "def fillNAn(data):\n",
    "    nancolumns = data.columns[data.isna().any()].tolist() # data which has at least one missing data\n",
    "    for i in nancolumns:\n",
    "        if data[i].dtypes == 'float64':\n",
    "            data[i].fillna(data[i].mean(), inplace=True) #fill numerical data with mean of others\n",
    "        else:\n",
    "            data[i].fillna(data[i].mode()[0], inplace=True) #fill non-numerical data with most repetitive data\n",
    "    return data"
   ]
  },
  {
   "cell_type": "code",
   "execution_count": 308,
   "id": "d596b783-86ad-4ec0-9b82-b6116ccbdb90",
   "metadata": {},
   "outputs": [],
   "source": [
    "def encode(data):\n",
    "    enc = LabelEncoder()\n",
    "    for i in data.columns:\n",
    "        if data[i].dtypes == 'O':\n",
    "           data[i] = enc.fit_transform(data[i])\n",
    "    return data"
   ]
  },
  {
   "cell_type": "code",
   "execution_count": 309,
   "id": "c901e604-117c-4da8-b778-d6312e9c8a82",
   "metadata": {},
   "outputs": [],
   "source": [
    "fillNantransform = FunctionTransformer(fillNAn)\n",
    "encodtransform = FunctionTransformer(encode)"
   ]
  },
  {
   "cell_type": "code",
   "execution_count": 310,
   "id": "31e52616-d4da-4768-8e4f-bf486bc5da1b",
   "metadata": {},
   "outputs": [],
   "source": [
    "pip = Pipeline([('fill Missing data', fillNantransform), ('lable encoding', encodtransform), ('Normalize', StandardScaler()),('lassomodel', Lasso(fit_intercept=True, tol=1e-3))])\n",
    " # ('model', LinearRegression()), "
   ]
  },
  {
   "cell_type": "code",
   "execution_count": 311,
   "id": "f28803ec-8a3e-492a-bdf4-53d957e49307",
   "metadata": {},
   "outputs": [],
   "source": [
    "# # show correlation between different variables\n",
    "# corr = train.corr()\n",
    "# f, ax = plt.subplots(figsize=(300, 250))\n",
    "# mask = np.triu(np.ones_like(corr, dtype=bool))\n",
    "# cmap = sns.diverging_palette(230, 20, as_cmap=True)\n",
    "# sns.heatmap(corr, annot=True, mask = mask, cmap=cmap)"
   ]
  },
  {
   "cell_type": "code",
   "execution_count": 312,
   "id": "9ecda161-55e2-49e0-860f-3bbd95e1b904",
   "metadata": {},
   "outputs": [],
   "source": [
    "# train, train_y = StandardScaler().fit_transform(train), StandardScaler().fit_transform(train_y.values.reshape(-1,1))"
   ]
  },
  {
   "cell_type": "code",
   "execution_count": 313,
   "id": "faf89063-0aa7-4516-a377-008cad3b36d3",
   "metadata": {},
   "outputs": [],
   "source": [
    "# model = LinearRegression()"
   ]
  },
  {
   "cell_type": "code",
   "execution_count": 314,
   "id": "86d1fe84-f9c4-4b07-9d2b-91efd3268362",
   "metadata": {},
   "outputs": [
    {
     "data": {
      "text/html": [
       "<style>#sk-container-id-14 {color: black;}#sk-container-id-14 pre{padding: 0;}#sk-container-id-14 div.sk-toggleable {background-color: white;}#sk-container-id-14 label.sk-toggleable__label {cursor: pointer;display: block;width: 100%;margin-bottom: 0;padding: 0.3em;box-sizing: border-box;text-align: center;}#sk-container-id-14 label.sk-toggleable__label-arrow:before {content: \"▸\";float: left;margin-right: 0.25em;color: #696969;}#sk-container-id-14 label.sk-toggleable__label-arrow:hover:before {color: black;}#sk-container-id-14 div.sk-estimator:hover label.sk-toggleable__label-arrow:before {color: black;}#sk-container-id-14 div.sk-toggleable__content {max-height: 0;max-width: 0;overflow: hidden;text-align: left;background-color: #f0f8ff;}#sk-container-id-14 div.sk-toggleable__content pre {margin: 0.2em;color: black;border-radius: 0.25em;background-color: #f0f8ff;}#sk-container-id-14 input.sk-toggleable__control:checked~div.sk-toggleable__content {max-height: 200px;max-width: 100%;overflow: auto;}#sk-container-id-14 input.sk-toggleable__control:checked~label.sk-toggleable__label-arrow:before {content: \"▾\";}#sk-container-id-14 div.sk-estimator input.sk-toggleable__control:checked~label.sk-toggleable__label {background-color: #d4ebff;}#sk-container-id-14 div.sk-label input.sk-toggleable__control:checked~label.sk-toggleable__label {background-color: #d4ebff;}#sk-container-id-14 input.sk-hidden--visually {border: 0;clip: rect(1px 1px 1px 1px);clip: rect(1px, 1px, 1px, 1px);height: 1px;margin: -1px;overflow: hidden;padding: 0;position: absolute;width: 1px;}#sk-container-id-14 div.sk-estimator {font-family: monospace;background-color: #f0f8ff;border: 1px dotted black;border-radius: 0.25em;box-sizing: border-box;margin-bottom: 0.5em;}#sk-container-id-14 div.sk-estimator:hover {background-color: #d4ebff;}#sk-container-id-14 div.sk-parallel-item::after {content: \"\";width: 100%;border-bottom: 1px solid gray;flex-grow: 1;}#sk-container-id-14 div.sk-label:hover label.sk-toggleable__label {background-color: #d4ebff;}#sk-container-id-14 div.sk-serial::before {content: \"\";position: absolute;border-left: 1px solid gray;box-sizing: border-box;top: 0;bottom: 0;left: 50%;z-index: 0;}#sk-container-id-14 div.sk-serial {display: flex;flex-direction: column;align-items: center;background-color: white;padding-right: 0.2em;padding-left: 0.2em;position: relative;}#sk-container-id-14 div.sk-item {position: relative;z-index: 1;}#sk-container-id-14 div.sk-parallel {display: flex;align-items: stretch;justify-content: center;background-color: white;position: relative;}#sk-container-id-14 div.sk-item::before, #sk-container-id-14 div.sk-parallel-item::before {content: \"\";position: absolute;border-left: 1px solid gray;box-sizing: border-box;top: 0;bottom: 0;left: 50%;z-index: -1;}#sk-container-id-14 div.sk-parallel-item {display: flex;flex-direction: column;z-index: 1;position: relative;background-color: white;}#sk-container-id-14 div.sk-parallel-item:first-child::after {align-self: flex-end;width: 50%;}#sk-container-id-14 div.sk-parallel-item:last-child::after {align-self: flex-start;width: 50%;}#sk-container-id-14 div.sk-parallel-item:only-child::after {width: 0;}#sk-container-id-14 div.sk-dashed-wrapped {border: 1px dashed gray;margin: 0 0.4em 0.5em 0.4em;box-sizing: border-box;padding-bottom: 0.4em;background-color: white;}#sk-container-id-14 div.sk-label label {font-family: monospace;font-weight: bold;display: inline-block;line-height: 1.2em;}#sk-container-id-14 div.sk-label-container {text-align: center;}#sk-container-id-14 div.sk-container {/* jupyter's `normalize.less` sets `[hidden] { display: none; }` but bootstrap.min.css set `[hidden] { display: none !important; }` so we also need the `!important` here to be able to override the default hidden behavior on the sphinx rendered scikit-learn.org. See: https://github.com/scikit-learn/scikit-learn/issues/21755 */display: inline-block !important;position: relative;}#sk-container-id-14 div.sk-text-repr-fallback {display: none;}</style><div id=\"sk-container-id-14\" class=\"sk-top-container\"><div class=\"sk-text-repr-fallback\"><pre>Pipeline(steps=[(&#x27;fill Missing data&#x27;,\n",
       "                 FunctionTransformer(func=&lt;function fillNAn at 0x7f77b2b2cca0&gt;)),\n",
       "                (&#x27;lable encoding&#x27;,\n",
       "                 FunctionTransformer(func=&lt;function encode at 0x7f77b2b2c9d0&gt;)),\n",
       "                (&#x27;Normalize&#x27;, StandardScaler()),\n",
       "                (&#x27;lassomodel&#x27;, Lasso(tol=0.001))])</pre><b>In a Jupyter environment, please rerun this cell to show the HTML representation or trust the notebook. <br />On GitHub, the HTML representation is unable to render, please try loading this page with nbviewer.org.</b></div><div class=\"sk-container\" hidden><div class=\"sk-item sk-dashed-wrapped\"><div class=\"sk-label-container\"><div class=\"sk-label sk-toggleable\"><input class=\"sk-toggleable__control sk-hidden--visually\" id=\"sk-estimator-id-64\" type=\"checkbox\" ><label for=\"sk-estimator-id-64\" class=\"sk-toggleable__label sk-toggleable__label-arrow\">Pipeline</label><div class=\"sk-toggleable__content\"><pre>Pipeline(steps=[(&#x27;fill Missing data&#x27;,\n",
       "                 FunctionTransformer(func=&lt;function fillNAn at 0x7f77b2b2cca0&gt;)),\n",
       "                (&#x27;lable encoding&#x27;,\n",
       "                 FunctionTransformer(func=&lt;function encode at 0x7f77b2b2c9d0&gt;)),\n",
       "                (&#x27;Normalize&#x27;, StandardScaler()),\n",
       "                (&#x27;lassomodel&#x27;, Lasso(tol=0.001))])</pre></div></div></div><div class=\"sk-serial\"><div class=\"sk-item\"><div class=\"sk-estimator sk-toggleable\"><input class=\"sk-toggleable__control sk-hidden--visually\" id=\"sk-estimator-id-65\" type=\"checkbox\" ><label for=\"sk-estimator-id-65\" class=\"sk-toggleable__label sk-toggleable__label-arrow\">FunctionTransformer</label><div class=\"sk-toggleable__content\"><pre>FunctionTransformer(func=&lt;function fillNAn at 0x7f77b2b2cca0&gt;)</pre></div></div></div><div class=\"sk-item\"><div class=\"sk-estimator sk-toggleable\"><input class=\"sk-toggleable__control sk-hidden--visually\" id=\"sk-estimator-id-66\" type=\"checkbox\" ><label for=\"sk-estimator-id-66\" class=\"sk-toggleable__label sk-toggleable__label-arrow\">FunctionTransformer</label><div class=\"sk-toggleable__content\"><pre>FunctionTransformer(func=&lt;function encode at 0x7f77b2b2c9d0&gt;)</pre></div></div></div><div class=\"sk-item\"><div class=\"sk-estimator sk-toggleable\"><input class=\"sk-toggleable__control sk-hidden--visually\" id=\"sk-estimator-id-67\" type=\"checkbox\" ><label for=\"sk-estimator-id-67\" class=\"sk-toggleable__label sk-toggleable__label-arrow\">StandardScaler</label><div class=\"sk-toggleable__content\"><pre>StandardScaler()</pre></div></div></div><div class=\"sk-item\"><div class=\"sk-estimator sk-toggleable\"><input class=\"sk-toggleable__control sk-hidden--visually\" id=\"sk-estimator-id-68\" type=\"checkbox\" ><label for=\"sk-estimator-id-68\" class=\"sk-toggleable__label sk-toggleable__label-arrow\">Lasso</label><div class=\"sk-toggleable__content\"><pre>Lasso(tol=0.001)</pre></div></div></div></div></div></div></div>"
      ],
      "text/plain": [
       "Pipeline(steps=[('fill Missing data',\n",
       "                 FunctionTransformer(func=<function fillNAn at 0x7f77b2b2cca0>)),\n",
       "                ('lable encoding',\n",
       "                 FunctionTransformer(func=<function encode at 0x7f77b2b2c9d0>)),\n",
       "                ('Normalize', StandardScaler()),\n",
       "                ('lassomodel', Lasso(tol=0.001))])"
      ]
     },
     "execution_count": 314,
     "metadata": {},
     "output_type": "execute_result"
    }
   ],
   "source": [
    "pip.fit(train, train_y)"
   ]
  },
  {
   "cell_type": "code",
   "execution_count": 315,
   "id": "7cf50961-d068-4516-a084-760b9f6a06eb",
   "metadata": {},
   "outputs": [],
   "source": [
    "prediction = pip.predict(test)"
   ]
  },
  {
   "cell_type": "code",
   "execution_count": 316,
   "id": "92f38b5e-692d-437a-b351-100b24c647a4",
   "metadata": {},
   "outputs": [],
   "source": [
    "output = pd.DataFrame({'Id': test.Id, 'SalePrice': prediction})"
   ]
  },
  {
   "cell_type": "code",
   "execution_count": 317,
   "id": "8dd37ebb-07c3-4aeb-96c0-e2040186da85",
   "metadata": {},
   "outputs": [],
   "source": [
    "output.to_csv('submission.csv', index=False)"
   ]
  }
 ],
 "metadata": {
  "kernelspec": {
   "display_name": "Python 3 (ipykernel)",
   "language": "python",
   "name": "python3"
  },
  "language_info": {
   "codemirror_mode": {
    "name": "ipython",
    "version": 3
   },
   "file_extension": ".py",
   "mimetype": "text/x-python",
   "name": "python",
   "nbconvert_exporter": "python",
   "pygments_lexer": "ipython3",
   "version": "3.10.12"
  }
 },
 "nbformat": 4,
 "nbformat_minor": 5
}
