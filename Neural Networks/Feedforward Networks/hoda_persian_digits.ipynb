{
 "cells": [
  {
   "cell_type": "code",
   "execution_count": 151,
   "id": "1d0b1d24-f588-47d7-a43f-1d8622f78ff2",
   "metadata": {},
   "outputs": [],
   "source": [
    "import sys\n",
    "sys.path.append('./../../Dataset_custom/hoda')"
   ]
  },
  {
   "cell_type": "code",
   "execution_count": 152,
   "id": "4af0dd34-76d1-4595-8943-a0fcdbbfeb4d",
   "metadata": {},
   "outputs": [],
   "source": [
    "from HodaDatasetReader import read_hoda_dataset\n",
    "from scipy import io\n",
    "from sklearn.preprocessing import OneHotEncoder\n",
    "import tensorflow as tf\n",
    "import matplotlib.pyplot as plt\n",
    "import numpy as np\n",
    "import pandas as pd\n",
    "import cv2"
   ]
  },
  {
   "cell_type": "code",
   "execution_count": 153,
   "id": "0bff3dc9-e652-42cd-8237-df39b3897cb9",
   "metadata": {},
   "outputs": [],
   "source": [
    "# import data\n",
    "x_train, y_train = read_hoda_dataset(dataset_path='./../../Dataset_custom/hoda/DigitDB/Train 60000.cdb')\n",
    "x_test, y_test = read_hoda_dataset(dataset_path='./../../Dataset_custom/hoda/DigitDB/Test 20000.cdb')\n",
    "x_val, y_val = read_hoda_dataset(dataset_path='./../../Dataset_custom/hoda/DigitDB/RemainingSamples.cdb')"
   ]
  },
  {
   "cell_type": "code",
   "execution_count": 154,
   "id": "de837cb0-a5c5-4eb9-bf92-0956a167f517",
   "metadata": {},
   "outputs": [
    {
     "data": {
      "text/plain": [
       "(60000, 32, 32, 1)"
      ]
     },
     "execution_count": 154,
     "metadata": {},
     "output_type": "execute_result"
    }
   ],
   "source": [
    "x_train.shape"
   ]
  },
  {
   "cell_type": "code",
   "execution_count": 155,
   "id": "97286886-eb90-427d-8677-aff4cdbe7e22",
   "metadata": {},
   "outputs": [],
   "source": [
    "# reshape to siutable format\n",
    "sampels_tr, hight_tr, width_tr, _ = x_train.shape\n",
    "sampels_te, hight_te, width_te, _ = x_test.shape\n",
    "sampels_va, hight_va, width_va, _ = x_val.shape\n",
    "x_train = x_train.reshape(sampels_tr, hight_tr, width_tr)\n",
    "x_test = x_test.reshape(sampels_te, hight_te, width_te)\n",
    "x_val = x_val.reshape(sampels_va, hight_va, width_va)"
   ]
  },
  {
   "cell_type": "code",
   "execution_count": 156,
   "id": "60e14d87-282e-4d3c-818f-ded4fe1dfa30",
   "metadata": {},
   "outputs": [],
   "source": [
    "# one-hot lables - Categorical cross entropy\n",
    "# y_train = OneHotEncoder().fit_transform(y_train.reshape(-1, 1)).toarray()\n",
    "# y_test = OneHotEncoder().fit_transform(y_test.reshape(-1, 1)).toarray()\n",
    "# y_val = OneHotEncoder().fit_transform(y_val.reshape(-1, 1)).toarray()"
   ]
  },
  {
   "cell_type": "code",
   "execution_count": 157,
   "id": "0e001615-3174-4e42-b3f4-fe2037b52ffb",
   "metadata": {},
   "outputs": [
    {
     "data": {
      "text/plain": [
       "<matplotlib.image.AxesImage at 0x7acb3d43b550>"
      ]
     },
     "execution_count": 157,
     "metadata": {},
     "output_type": "execute_result"
    },
    {
     "data": {
      "image/png": "[encoded data removed]",
      "text/plain": [
       "<Figure size 640x480 with 1 Axes>"
      ]
     },
     "metadata": {},
     "output_type": "display_data"
    }
   ],
   "source": [
    "plt.imshow(x_train[0], cmap='gray')"
   ]
  },
  {
   "cell_type": "code",
   "execution_count": 158,
   "id": "d2c59ac2-4dc3-487e-8ec5-f03775d426c4",
   "metadata": {},
   "outputs": [
    {
     "data": {
      "text/plain": [
       "(32, 32)"
      ]
     },
     "execution_count": 158,
     "metadata": {},
     "output_type": "execute_result"
    }
   ],
   "source": [
    "x_train[0].shape"
   ]
  },
  {
   "cell_type": "code",
   "execution_count": 159,
   "id": "3b4d7de7-8981-4960-8633-647e9bdb19e3",
   "metadata": {},
   "outputs": [],
   "source": [
    "# model\n",
    "model = tf.keras.Sequential([\n",
    "    tf.keras.layers.Flatten(input_shape=(32, 32)),\n",
    "    tf.keras.layers.Dense(32, activation='relu'),\n",
    "    tf.keras.layers.Dense(64, activation='relu'),\n",
    "    tf.keras.layers.Dense(128, activation='relu'),\n",
    "    tf.keras.layers.Dense(64, activation='relu'),\n",
    "    tf.keras.layers.Dropout(0.2),\n",
    "    tf.keras.layers.Dense(10, activation='softmax')\n",
    "])"
   ]
  },
  {
   "cell_type": "code",
   "execution_count": 160,
   "id": "bbfe5044-d13f-438c-8355-9ee81a831bb6",
   "metadata": {},
   "outputs": [],
   "source": [
    "model.compile(\n",
    "    loss=tf.keras.losses.sparse_categorical_crossentropy,\n",
    "    optimizer='adam',\n",
    "    metrics=['accuracy']\n",
    ")"
   ]
  },
  {
   "cell_type": "code",
   "execution_count": 161,
   "id": "695a0076-3094-4f14-8a3c-a5e782db18cd",
   "metadata": {},
   "outputs": [
    {
     "name": "stdout",
     "output_type": "stream",
     "text": [
      "Epoch 1/15\n",
      "\u001b[1m938/938\u001b[0m \u001b[32m━━━━━━━━━━━━━━━━━━━━\u001b[0m\u001b[37m\u001b[0m \u001b[1m3s\u001b[0m 2ms/step - accuracy: 0.8697 - loss: 0.4435 - val_accuracy: 0.9561 - val_loss: 0.1425\n",
      "Epoch 2/15\n",
      "\u001b[1m938/938\u001b[0m \u001b[32m━━━━━━━━━━━━━━━━━━━━\u001b[0m\u001b[37m\u001b[0m \u001b[1m4s\u001b[0m 4ms/step - accuracy: 0.9763 - loss: 0.0853 - val_accuracy: 0.9527 - val_loss: 0.1516\n",
      "Epoch 3/15\n",
      "\u001b[1m938/938\u001b[0m \u001b[32m━━━━━━━━━━━━━━━━━━━━\u001b[0m\u001b[37m\u001b[0m \u001b[1m4s\u001b[0m 4ms/step - accuracy: 0.9821 - loss: 0.0626 - val_accuracy: 0.9679 - val_loss: 0.1119\n",
      "Epoch 4/15\n",
      "\u001b[1m938/938\u001b[0m \u001b[32m━━━━━━━━━━━━━━━━━━━━\u001b[0m\u001b[37m\u001b[0m \u001b[1m4s\u001b[0m 4ms/step - accuracy: 0.9862 - loss: 0.0463 - val_accuracy: 0.9679 - val_loss: 0.1069\n",
      "Epoch 5/15\n",
      "\u001b[1m938/938\u001b[0m \u001b[32m━━━━━━━━━━━━━━━━━━━━\u001b[0m\u001b[37m\u001b[0m \u001b[1m4s\u001b[0m 4ms/step - accuracy: 0.9880 - loss: 0.0403 - val_accuracy: 0.9704 - val_loss: 0.1005\n",
      "Epoch 6/15\n",
      "\u001b[1m938/938\u001b[0m \u001b[32m━━━━━━━━━━━━━━━━━━━━\u001b[0m\u001b[37m\u001b[0m \u001b[1m4s\u001b[0m 4ms/step - accuracy: 0.9899 - loss: 0.0322 - val_accuracy: 0.9657 - val_loss: 0.1301\n",
      "Epoch 7/15\n",
      "\u001b[1m938/938\u001b[0m \u001b[32m━━━━━━━━━━━━━━━━━━━━\u001b[0m\u001b[37m\u001b[0m \u001b[1m4s\u001b[0m 4ms/step - accuracy: 0.9893 - loss: 0.0316 - val_accuracy: 0.9676 - val_loss: 0.1332\n",
      "Epoch 8/15\n",
      "\u001b[1m938/938\u001b[0m \u001b[32m━━━━━━━━━━━━━━━━━━━━\u001b[0m\u001b[37m\u001b[0m \u001b[1m4s\u001b[0m 4ms/step - accuracy: 0.9919 - loss: 0.0266 - val_accuracy: 0.9662 - val_loss: 0.1418\n",
      "Epoch 9/15\n",
      "\u001b[1m938/938\u001b[0m \u001b[32m━━━━━━━━━━━━━━━━━━━━\u001b[0m\u001b[37m\u001b[0m \u001b[1m4s\u001b[0m 4ms/step - accuracy: 0.9930 - loss: 0.0229 - val_accuracy: 0.9735 - val_loss: 0.1091\n",
      "Epoch 10/15\n",
      "\u001b[1m938/938\u001b[0m \u001b[32m━━━━━━━━━━━━━━━━━━━━\u001b[0m\u001b[37m\u001b[0m \u001b[1m4s\u001b[0m 4ms/step - accuracy: 0.9935 - loss: 0.0192 - val_accuracy: 0.9731 - val_loss: 0.1176\n",
      "Epoch 11/15\n",
      "\u001b[1m938/938\u001b[0m \u001b[32m━━━━━━━━━━━━━━━━━━━━\u001b[0m\u001b[37m\u001b[0m \u001b[1m4s\u001b[0m 4ms/step - accuracy: 0.9936 - loss: 0.0194 - val_accuracy: 0.9737 - val_loss: 0.1241\n",
      "Epoch 12/15\n",
      "\u001b[1m938/938\u001b[0m \u001b[32m━━━━━━━━━━━━━━━━━━━━\u001b[0m\u001b[37m\u001b[0m \u001b[1m4s\u001b[0m 4ms/step - accuracy: 0.9948 - loss: 0.0165 - val_accuracy: 0.9762 - val_loss: 0.1040\n",
      "Epoch 13/15\n",
      "\u001b[1m938/938\u001b[0m \u001b[32m━━━━━━━━━━━━━━━━━━━━\u001b[0m\u001b[37m\u001b[0m \u001b[1m4s\u001b[0m 4ms/step - accuracy: 0.9952 - loss: 0.0151 - val_accuracy: 0.9744 - val_loss: 0.1188\n",
      "Epoch 14/15\n",
      "\u001b[1m938/938\u001b[0m \u001b[32m━━━━━━━━━━━━━━━━━━━━\u001b[0m\u001b[37m\u001b[0m \u001b[1m4s\u001b[0m 4ms/step - accuracy: 0.9950 - loss: 0.0164 - val_accuracy: 0.9746 - val_loss: 0.1232\n",
      "Epoch 15/15\n",
      "\u001b[1m938/938\u001b[0m \u001b[32m━━━━━━━━━━━━━━━━━━━━\u001b[0m\u001b[37m\u001b[0m \u001b[1m4s\u001b[0m 4ms/step - accuracy: 0.9958 - loss: 0.0138 - val_accuracy: 0.9753 - val_loss: 0.1119\n"
     ]
    }
   ],
   "source": [
    "hist = model.fit(x_train, y_train, validation_data=(x_val, y_val), epochs=15, batch_size=64)"
   ]
  },
  {
   "cell_type": "code",
   "execution_count": 162,
   "id": "6f013f67-aee6-4781-9335-42c2227fb895",
   "metadata": {},
   "outputs": [
    {
     "name": "stdout",
     "output_type": "stream",
     "text": [
      "\u001b[1m313/313\u001b[0m \u001b[32m━━━━━━━━━━━━━━━━━━━━\u001b[0m\u001b[37m\u001b[0m \u001b[1m1s\u001b[0m 2ms/step - accuracy: 0.9748 - loss: 0.1148\n"
     ]
    },
    {
     "data": {
      "text/plain": [
       "[0.13889339566230774, 0.9716500043869019]"
      ]
     },
     "execution_count": 162,
     "metadata": {},
     "output_type": "execute_result"
    }
   ],
   "source": [
    "model.evaluate(x_test, y_test, batch_size=64)"
   ]
  },
  {
   "cell_type": "code",
   "execution_count": 163,
   "id": "74956cdf-8fac-4a2e-be6b-626acb620c88",
   "metadata": {},
   "outputs": [],
   "source": [
    "df = pd.DataFrame(hist.history)"
   ]
  },
  {
   "cell_type": "code",
   "execution_count": 164,
   "id": "25a1f409-9c31-45a9-9446-715ce9b649f8",
   "metadata": {},
   "outputs": [
    {
     "data": {
      "text/plain": [
       "<matplotlib.legend.Legend at 0x7acb13e01390>"
      ]
     },
     "execution_count": 164,
     "metadata": {},
     "output_type": "execute_result"
    },
    {
     "data": {
      "image/png": "[encoded data removed]",
      "text/plain": [
       "<Figure size 640x480 with 1 Axes>"
      ]
     },
     "metadata": {},
     "output_type": "display_data"
    }
   ],
   "source": [
    "plt.plot(df['accuracy'], label='train acc')\n",
    "plt.plot(df['val_accuracy'], label='val acc')\n",
    "plt.title('train acc VS val acc')\n",
    "plt.legend()\n",
    "plt.plot(df['loss'], label='train loss')\n",
    "plt.plot(df['val_loss'], label='val loss')\n",
    "plt.title('train loss VS val loss')\n",
    "plt.legend()"
   ]
  },
  {
   "cell_type": "code",
   "execution_count": null,
   "id": "6d3d5ca4-b97c-4b07-83d0-227cc0119eb4",
   "metadata": {},
   "outputs": [],
   "source": []
  }
 ],
 "metadata": {
  "kernelspec": {
   "display_name": "ML",
   "language": "python",
   "name": "ml"
  },
  "language_info": {
   "codemirror_mode": {
    "name": "ipython",
    "version": 3
   },
   "file_extension": ".py",
   "mimetype": "text/x-python",
   "name": "python",
   "nbconvert_exporter": "python",
   "pygments_lexer": "ipython3",
   "version": "3.10.2"
  }
 },
 "nbformat": 4,
 "nbformat_minor": 5
}
