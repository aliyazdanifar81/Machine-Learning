{
 "cells": [
  {
   "cell_type": "code",
   "execution_count": 1,
   "id": "f79e3d4d-57b6-4438-944e-b347396236b5",
   "metadata": {},
   "outputs": [],
   "source": [
    "import sys\n",
    "sys.path.append('./../../Dataset_custom/hoda')"
   ]
  },
  {
   "cell_type": "code",
   "execution_count": 2,
   "id": "e72271a3-249b-42d3-bde8-451a2ffc694a",
   "metadata": {},
   "outputs": [],
   "source": [
    "import tensorflow as tf\n",
    "from tensorflow.keras.preprocessing.image import ImageDataGenerator\n",
    "from sklearn.model_selection import train_test_split\n",
    "from matplotlib import pyplot as plt\n",
    "import numpy as np\n",
    "from HodaDatasetReader import read_hoda_dataset\n",
    "from scipy import io\n",
    "from sklearn.preprocessing import OneHotEncoder\n",
    "import tensorflow as tf\n",
    "import matplotlib.pyplot as plt\n",
    "import numpy as np\n",
    "import pandas as pd\n",
    "import cv2"
   ]
  },
  {
   "cell_type": "markdown",
   "id": "73aab34a-4803-4551-af63-8c750fbaadf6",
   "metadata": {},
   "source": [
    "**Fetch Data**"
   ]
  },
  {
   "cell_type": "code",
   "execution_count": 3,
   "id": "a4e319ad-e37f-4ec3-804f-5cc7a7a7b953",
   "metadata": {},
   "outputs": [],
   "source": [
    "x_train, y_train = read_hoda_dataset(dataset_path='./../../Dataset_custom/hoda/DigitDB/Train 60000.cdb')\n",
    "x_test, y_test = read_hoda_dataset(dataset_path='./../../Dataset_custom/hoda/DigitDB/Test 20000.cdb')\n",
    "x_val, y_val = read_hoda_dataset(dataset_path='./../../Dataset_custom/hoda/DigitDB/RemainingSamples.cdb')"
   ]
  },
  {
   "cell_type": "code",
   "execution_count": 4,
   "id": "b4bd5b1e-c725-4c99-94c7-9ee3a2a03b9d",
   "metadata": {},
   "outputs": [
    {
     "data": {
      "text/plain": [
       "(60000, 32, 32, 1)"
      ]
     },
     "execution_count": 4,
     "metadata": {},
     "output_type": "execute_result"
    }
   ],
   "source": [
    "x_train.shape"
   ]
  },
  {
   "cell_type": "markdown",
   "id": "3a190acf-3cbc-4162-aed1-892d80535483",
   "metadata": {},
   "source": [
    "**several sample of dataset**"
   ]
  },
  {
   "cell_type": "code",
   "execution_count": 5,
   "id": "7878a29e-8ca0-42dc-bf0c-7df8ebefa2dd",
   "metadata": {},
   "outputs": [
    {
     "data": {
      "image/png": "[encoded data removed]",
      "text/plain": [
       "<Figure size 1500x1500 with 10 Axes>"
      ]
     },
     "metadata": {},
     "output_type": "display_data"
    }
   ],
   "source": [
    "fig, ax = plt.subplots(1, 10, figsize=(15,15))\n",
    "for i in range(10):\n",
    "    ax[i].imshow(x_train[i], cmap='gray')\n",
    "    ax[i].title.set_text(y_train[i])"
   ]
  },
  {
   "cell_type": "markdown",
   "id": "ff70fe38-6be7-4b04-8613-71a2b441e6f5",
   "metadata": {},
   "source": [
    "**Data augmentation**"
   ]
  },
  {
   "cell_type": "code",
   "execution_count": 6,
   "id": "4a17592c-4f48-4e70-b9be-4f420a9f1446",
   "metadata": {},
   "outputs": [],
   "source": [
    "datagen = ImageDataGenerator(rotation_range=15)"
   ]
  },
  {
   "cell_type": "markdown",
   "id": "67b3d139-cf95-4d9f-9ce0-581e4bdf110b",
   "metadata": {},
   "source": [
    "**Normalizing**"
   ]
  },
  {
   "cell_type": "code",
   "execution_count": 7,
   "id": "49ea3254-0cb1-4f6f-9a77-42ca9897a60d",
   "metadata": {},
   "outputs": [],
   "source": [
    "x_train, x_test, x_val = x_train/255.0, x_test/255.0, x_val/255.0"
   ]
  },
  {
   "cell_type": "markdown",
   "id": "ce0269d4-9cc1-4eae-99e5-60448fe4cec7",
   "metadata": {},
   "source": [
    "**Model**"
   ]
  },
  {
   "cell_type": "code",
   "execution_count": 8,
   "id": "1568ffed-2cc8-44e4-b2e1-df6cda411947",
   "metadata": {},
   "outputs": [],
   "source": [
    "model = tf.keras.models.Sequential([\n",
    "    tf.keras.layers.Conv2D(32, (3, 3), activation='relu', input_shape=(32, 32, 1)),\n",
    "    tf.keras.layers.MaxPooling2D((2, 2), strides=2),\n",
    "    tf.keras.layers.Conv2D(64, (3, 3), activation='relu'),\n",
    "    tf.keras.layers.MaxPooling2D((2, 2)),\n",
    "    tf.keras.layers.Conv2D(512, (3, 3), activation='relu', padding='same'),\n",
    "    tf.keras.layers.AveragePooling2D((2, 2)),\n",
    "    tf.keras.layers.Flatten(),\n",
    "    tf.keras.layers.Dense(128, activation='relu'),\n",
    "    tf.keras.layers.Dropout(0.3),\n",
    "    tf.keras.layers.Dense(512, activation='relu'),\n",
    "    tf.keras.layers.Dropout(0.3),\n",
    "    tf.keras.layers.Dense(128, activation='relu'),\n",
    "    tf.keras.layers.Dropout(0.3),\n",
    "    tf.keras.layers.Dense(10, activation='softmax')\n",
    "])"
   ]
  },
  {
   "cell_type": "code",
   "execution_count": 9,
   "id": "379a8e29-f603-4f53-ae51-038c070098de",
   "metadata": {},
   "outputs": [
    {
     "name": "stdout",
     "output_type": "stream",
     "text": [
      "Model: \"sequential\"\n",
      "_________________________________________________________________\n",
      " Layer (type)                Output Shape              Param #   \n",
      "=================================================================\n",
      " conv2d (Conv2D)             (None, 30, 30, 32)        320       \n",
      "                                                                 \n",
      " max_pooling2d (MaxPooling2D  (None, 15, 15, 32)       0         \n",
      " )                                                               \n",
      "                                                                 \n",
      " conv2d_1 (Conv2D)           (None, 13, 13, 64)        18496     \n",
      "                                                                 \n",
      " max_pooling2d_1 (MaxPooling  (None, 6, 6, 64)         0         \n",
      " 2D)                                                             \n",
      "                                                                 \n",
      " conv2d_2 (Conv2D)           (None, 6, 6, 512)         295424    \n",
      "                                                                 \n",
      " average_pooling2d (AverageP  (None, 3, 3, 512)        0         \n",
      " ooling2D)                                                       \n",
      "                                                                 \n",
      " flatten (Flatten)           (None, 4608)              0         \n",
      "                                                                 \n",
      " dense (Dense)               (None, 128)               589952    \n",
      "                                                                 \n",
      " dropout (Dropout)           (None, 128)               0         \n",
      "                                                                 \n",
      " dense_1 (Dense)             (None, 512)               66048     \n",
      "                                                                 \n",
      " dropout_1 (Dropout)         (None, 512)               0         \n",
      "                                                                 \n",
      " dense_2 (Dense)             (None, 128)               65664     \n",
      "                                                                 \n",
      " dropout_2 (Dropout)         (None, 128)               0         \n",
      "                                                                 \n",
      " dense_3 (Dense)             (None, 10)                1290      \n",
      "                                                                 \n",
      "=================================================================\n",
      "Total params: 1,037,194\n",
      "Trainable params: 1,037,194\n",
      "Non-trainable params: 0\n",
      "_________________________________________________________________\n"
     ]
    }
   ],
   "source": [
    "model.summary()"
   ]
  },
  {
   "cell_type": "code",
   "execution_count": 10,
   "id": "8dfee778-9fd5-4541-8b93-98bc1ec127f2",
   "metadata": {},
   "outputs": [],
   "source": [
    "model.compile(optimizer='adam', loss='sparse_categorical_crossentropy', metrics=['accuracy'])"
   ]
  },
  {
   "cell_type": "code",
   "execution_count": 11,
   "id": "2ac0ef16-4c12-4763-a99e-be9237eb0511",
   "metadata": {},
   "outputs": [
    {
     "name": "stdout",
     "output_type": "stream",
     "text": [
      "Epoch 1/80\n",
      "59/59 [==============================] - 16s 190ms/step - loss: 2.1289 - accuracy: 0.2036 - val_loss: 1.1292 - val_accuracy: 0.6487\n",
      "Epoch 2/80\n",
      "59/59 [==============================] - 10s 170ms/step - loss: 0.8851 - accuracy: 0.6843 - val_loss: 0.6087 - val_accuracy: 0.7748\n",
      "Epoch 3/80\n",
      "59/59 [==============================] - 10s 171ms/step - loss: 0.5604 - accuracy: 0.8130 - val_loss: 0.4077 - val_accuracy: 0.8579\n",
      "Epoch 4/80\n",
      "59/59 [==============================] - 10s 170ms/step - loss: 0.4314 - accuracy: 0.8570 - val_loss: 0.3531 - val_accuracy: 0.8717\n",
      "Epoch 5/80\n",
      "59/59 [==============================] - 10s 171ms/step - loss: 0.3594 - accuracy: 0.8823 - val_loss: 0.2683 - val_accuracy: 0.9083\n",
      "Epoch 6/80\n",
      "59/59 [==============================] - 10s 169ms/step - loss: 0.2948 - accuracy: 0.9059 - val_loss: 0.2152 - val_accuracy: 0.9256\n",
      "Epoch 7/80\n",
      "59/59 [==============================] - 10s 169ms/step - loss: 0.2497 - accuracy: 0.9188 - val_loss: 0.1933 - val_accuracy: 0.9336\n",
      "Epoch 8/80\n",
      "59/59 [==============================] - 10s 170ms/step - loss: 0.2222 - accuracy: 0.9277 - val_loss: 0.1757 - val_accuracy: 0.9405\n",
      "Epoch 9/80\n",
      "59/59 [==============================] - 10s 169ms/step - loss: 0.1953 - accuracy: 0.9370 - val_loss: 0.1391 - val_accuracy: 0.9538\n",
      "Epoch 10/80\n",
      "59/59 [==============================] - 10s 167ms/step - loss: 0.1741 - accuracy: 0.9452 - val_loss: 0.1336 - val_accuracy: 0.9558\n",
      "Epoch 11/80\n",
      "59/59 [==============================] - 10s 168ms/step - loss: 0.1537 - accuracy: 0.9511 - val_loss: 0.1186 - val_accuracy: 0.9601\n",
      "Epoch 12/80\n",
      "59/59 [==============================] - 10s 169ms/step - loss: 0.1458 - accuracy: 0.9543 - val_loss: 0.1217 - val_accuracy: 0.9605\n",
      "Epoch 13/80\n",
      "59/59 [==============================] - 10s 169ms/step - loss: 0.1362 - accuracy: 0.9570 - val_loss: 0.1118 - val_accuracy: 0.9634\n",
      "Epoch 14/80\n",
      "59/59 [==============================] - 10s 168ms/step - loss: 0.1276 - accuracy: 0.9601 - val_loss: 0.1156 - val_accuracy: 0.9633\n",
      "Epoch 15/80\n",
      "59/59 [==============================] - 10s 168ms/step - loss: 0.1208 - accuracy: 0.9618 - val_loss: 0.0980 - val_accuracy: 0.9681\n",
      "Epoch 16/80\n",
      "59/59 [==============================] - 10s 169ms/step - loss: 0.1150 - accuracy: 0.9642 - val_loss: 0.0969 - val_accuracy: 0.9680\n",
      "Epoch 17/80\n",
      "59/59 [==============================] - 10s 168ms/step - loss: 0.1077 - accuracy: 0.9664 - val_loss: 0.0868 - val_accuracy: 0.9724\n",
      "Epoch 18/80\n",
      "59/59 [==============================] - 10s 172ms/step - loss: 0.0994 - accuracy: 0.9690 - val_loss: 0.0858 - val_accuracy: 0.9730\n",
      "Epoch 19/80\n",
      "59/59 [==============================] - 10s 168ms/step - loss: 0.0947 - accuracy: 0.9706 - val_loss: 0.0790 - val_accuracy: 0.9737\n",
      "Epoch 20/80\n",
      "59/59 [==============================] - 10s 169ms/step - loss: 0.0951 - accuracy: 0.9706 - val_loss: 0.0724 - val_accuracy: 0.9753\n",
      "Epoch 21/80\n",
      "59/59 [==============================] - 10s 169ms/step - loss: 0.0921 - accuracy: 0.9710 - val_loss: 0.0766 - val_accuracy: 0.9749\n",
      "Epoch 22/80\n",
      "59/59 [==============================] - 10s 168ms/step - loss: 0.0819 - accuracy: 0.9749 - val_loss: 0.0662 - val_accuracy: 0.9787\n",
      "Epoch 23/80\n",
      "59/59 [==============================] - 10s 167ms/step - loss: 0.0815 - accuracy: 0.9752 - val_loss: 0.0658 - val_accuracy: 0.9790\n",
      "Epoch 24/80\n",
      "59/59 [==============================] - 10s 170ms/step - loss: 0.0792 - accuracy: 0.9761 - val_loss: 0.0649 - val_accuracy: 0.9793\n",
      "Epoch 25/80\n",
      "59/59 [==============================] - 10s 169ms/step - loss: 0.0757 - accuracy: 0.9768 - val_loss: 0.0603 - val_accuracy: 0.9808\n",
      "Epoch 26/80\n",
      "59/59 [==============================] - 10s 169ms/step - loss: 0.0715 - accuracy: 0.9779 - val_loss: 0.0775 - val_accuracy: 0.9763\n",
      "Epoch 27/80\n",
      "59/59 [==============================] - 10s 168ms/step - loss: 0.0697 - accuracy: 0.9783 - val_loss: 0.0557 - val_accuracy: 0.9820\n",
      "Epoch 28/80\n",
      "59/59 [==============================] - 10s 168ms/step - loss: 0.0708 - accuracy: 0.9781 - val_loss: 0.0873 - val_accuracy: 0.9724\n",
      "Epoch 29/80\n",
      "59/59 [==============================] - 10s 168ms/step - loss: 0.0692 - accuracy: 0.9787 - val_loss: 0.0540 - val_accuracy: 0.9816\n",
      "Epoch 30/80\n",
      "59/59 [==============================] - 10s 168ms/step - loss: 0.0662 - accuracy: 0.9794 - val_loss: 0.0553 - val_accuracy: 0.9820\n",
      "Epoch 31/80\n",
      "59/59 [==============================] - 10s 168ms/step - loss: 0.0616 - accuracy: 0.9818 - val_loss: 0.0496 - val_accuracy: 0.9842\n",
      "Epoch 32/80\n",
      "59/59 [==============================] - 10s 172ms/step - loss: 0.0618 - accuracy: 0.9809 - val_loss: 0.0637 - val_accuracy: 0.9792\n",
      "Epoch 33/80\n",
      "59/59 [==============================] - 10s 167ms/step - loss: 0.0584 - accuracy: 0.9821 - val_loss: 0.0456 - val_accuracy: 0.9859\n",
      "Epoch 34/80\n",
      "59/59 [==============================] - 10s 167ms/step - loss: 0.0562 - accuracy: 0.9826 - val_loss: 0.0631 - val_accuracy: 0.9803\n",
      "Epoch 35/80\n",
      "59/59 [==============================] - 10s 169ms/step - loss: 0.0560 - accuracy: 0.9829 - val_loss: 0.0513 - val_accuracy: 0.9842\n",
      "Epoch 36/80\n",
      "59/59 [==============================] - 10s 169ms/step - loss: 0.0516 - accuracy: 0.9842 - val_loss: 0.0449 - val_accuracy: 0.9855\n",
      "Epoch 37/80\n",
      "59/59 [==============================] - 10s 167ms/step - loss: 0.0513 - accuracy: 0.9842 - val_loss: 0.0525 - val_accuracy: 0.9829\n",
      "Epoch 38/80\n",
      "59/59 [==============================] - 10s 169ms/step - loss: 0.0511 - accuracy: 0.9840 - val_loss: 0.0410 - val_accuracy: 0.9873\n",
      "Epoch 39/80\n",
      "59/59 [==============================] - 10s 169ms/step - loss: 0.0515 - accuracy: 0.9841 - val_loss: 0.0385 - val_accuracy: 0.9875\n",
      "Epoch 40/80\n",
      "59/59 [==============================] - 10s 169ms/step - loss: 0.0534 - accuracy: 0.9832 - val_loss: 0.0407 - val_accuracy: 0.9869\n",
      "Epoch 41/80\n",
      "59/59 [==============================] - 10s 167ms/step - loss: 0.0483 - accuracy: 0.9852 - val_loss: 0.0394 - val_accuracy: 0.9871\n",
      "Epoch 42/80\n",
      "59/59 [==============================] - 10s 169ms/step - loss: 0.0470 - accuracy: 0.9858 - val_loss: 0.0399 - val_accuracy: 0.9875\n",
      "Epoch 43/80\n",
      "59/59 [==============================] - 10s 169ms/step - loss: 0.0445 - accuracy: 0.9864 - val_loss: 0.0504 - val_accuracy: 0.9831\n",
      "Epoch 44/80\n",
      "59/59 [==============================] - 10s 168ms/step - loss: 0.0453 - accuracy: 0.9859 - val_loss: 0.0480 - val_accuracy: 0.9847\n",
      "Epoch 45/80\n",
      "59/59 [==============================] - 10s 172ms/step - loss: 0.0427 - accuracy: 0.9868 - val_loss: 0.0384 - val_accuracy: 0.9877\n",
      "Epoch 46/80\n",
      "59/59 [==============================] - 10s 169ms/step - loss: 0.0445 - accuracy: 0.9862 - val_loss: 0.0433 - val_accuracy: 0.9861\n",
      "Epoch 47/80\n",
      "59/59 [==============================] - 10s 171ms/step - loss: 0.0406 - accuracy: 0.9875 - val_loss: 0.0363 - val_accuracy: 0.9894\n",
      "Epoch 48/80\n",
      "59/59 [==============================] - 10s 170ms/step - loss: 0.0398 - accuracy: 0.9874 - val_loss: 0.0376 - val_accuracy: 0.9885\n",
      "Epoch 49/80\n",
      "59/59 [==============================] - 10s 170ms/step - loss: 0.0391 - accuracy: 0.9875 - val_loss: 0.0400 - val_accuracy: 0.9880\n",
      "Epoch 50/80\n",
      "59/59 [==============================] - 10s 168ms/step - loss: 0.0395 - accuracy: 0.9876 - val_loss: 0.0405 - val_accuracy: 0.9870\n",
      "Epoch 51/80\n",
      "59/59 [==============================] - 10s 169ms/step - loss: 0.0405 - accuracy: 0.9874 - val_loss: 0.0368 - val_accuracy: 0.9884\n",
      "Epoch 52/80\n",
      "59/59 [==============================] - 10s 169ms/step - loss: 0.0364 - accuracy: 0.9889 - val_loss: 0.0320 - val_accuracy: 0.9902\n",
      "Epoch 53/80\n",
      "59/59 [==============================] - 10s 170ms/step - loss: 0.0358 - accuracy: 0.9886 - val_loss: 0.0365 - val_accuracy: 0.9888\n",
      "Epoch 54/80\n",
      "59/59 [==============================] - 10s 174ms/step - loss: 0.0365 - accuracy: 0.9891 - val_loss: 0.0349 - val_accuracy: 0.9893\n",
      "Epoch 55/80\n",
      "59/59 [==============================] - 10s 172ms/step - loss: 0.0356 - accuracy: 0.9887 - val_loss: 0.0310 - val_accuracy: 0.9903\n",
      "Epoch 56/80\n",
      "59/59 [==============================] - 10s 173ms/step - loss: 0.0353 - accuracy: 0.9890 - val_loss: 0.0338 - val_accuracy: 0.9894\n",
      "Epoch 57/80\n",
      "59/59 [==============================] - 10s 170ms/step - loss: 0.0332 - accuracy: 0.9898 - val_loss: 0.0316 - val_accuracy: 0.9902\n",
      "Epoch 58/80\n",
      "59/59 [==============================] - 10s 168ms/step - loss: 0.0355 - accuracy: 0.9894 - val_loss: 0.0344 - val_accuracy: 0.9900\n",
      "Epoch 59/80\n",
      "59/59 [==============================] - 10s 169ms/step - loss: 0.0324 - accuracy: 0.9896 - val_loss: 0.0332 - val_accuracy: 0.9900\n",
      "Epoch 60/80\n",
      "59/59 [==============================] - 10s 170ms/step - loss: 0.0320 - accuracy: 0.9905 - val_loss: 0.0320 - val_accuracy: 0.9896\n",
      "Epoch 61/80\n",
      "59/59 [==============================] - 10s 167ms/step - loss: 0.0301 - accuracy: 0.9906 - val_loss: 0.0303 - val_accuracy: 0.9914\n",
      "Epoch 62/80\n",
      "59/59 [==============================] - 10s 169ms/step - loss: 0.0311 - accuracy: 0.9902 - val_loss: 0.0298 - val_accuracy: 0.9915\n",
      "Epoch 63/80\n",
      "59/59 [==============================] - 10s 169ms/step - loss: 0.0272 - accuracy: 0.9916 - val_loss: 0.0279 - val_accuracy: 0.9915\n",
      "Epoch 64/80\n",
      "59/59 [==============================] - 10s 170ms/step - loss: 0.0300 - accuracy: 0.9902 - val_loss: 0.0303 - val_accuracy: 0.9908\n",
      "Epoch 65/80\n",
      "59/59 [==============================] - 10s 168ms/step - loss: 0.0280 - accuracy: 0.9911 - val_loss: 0.0315 - val_accuracy: 0.9905\n",
      "Epoch 66/80\n",
      "59/59 [==============================] - 10s 168ms/step - loss: 0.0315 - accuracy: 0.9901 - val_loss: 0.0339 - val_accuracy: 0.9891\n",
      "Epoch 67/80\n",
      "59/59 [==============================] - 10s 170ms/step - loss: 0.0303 - accuracy: 0.9907 - val_loss: 0.0349 - val_accuracy: 0.9890\n",
      "Epoch 68/80\n",
      "59/59 [==============================] - 10s 169ms/step - loss: 0.0275 - accuracy: 0.9911 - val_loss: 0.0287 - val_accuracy: 0.9913\n",
      "Epoch 69/80\n",
      "59/59 [==============================] - 10s 169ms/step - loss: 0.0268 - accuracy: 0.9917 - val_loss: 0.0301 - val_accuracy: 0.9916\n",
      "Epoch 70/80\n",
      "59/59 [==============================] - 10s 169ms/step - loss: 0.0265 - accuracy: 0.9920 - val_loss: 0.0297 - val_accuracy: 0.9916\n",
      "Epoch 71/80\n",
      "59/59 [==============================] - 10s 169ms/step - loss: 0.0265 - accuracy: 0.9915 - val_loss: 0.0239 - val_accuracy: 0.9927\n",
      "Epoch 72/80\n",
      "59/59 [==============================] - 10s 168ms/step - loss: 0.0262 - accuracy: 0.9922 - val_loss: 0.0328 - val_accuracy: 0.9908\n",
      "Epoch 73/80\n",
      "59/59 [==============================] - 10s 168ms/step - loss: 0.0265 - accuracy: 0.9922 - val_loss: 0.0344 - val_accuracy: 0.9898\n",
      "Epoch 74/80\n",
      "59/59 [==============================] - 10s 168ms/step - loss: 0.0245 - accuracy: 0.9925 - val_loss: 0.0274 - val_accuracy: 0.9919\n",
      "Epoch 75/80\n",
      "59/59 [==============================] - 10s 170ms/step - loss: 0.0233 - accuracy: 0.9930 - val_loss: 0.0268 - val_accuracy: 0.9918\n",
      "Epoch 76/80\n",
      "59/59 [==============================] - 10s 169ms/step - loss: 0.0246 - accuracy: 0.9922 - val_loss: 0.0341 - val_accuracy: 0.9896\n",
      "Epoch 77/80\n",
      "59/59 [==============================] - 10s 169ms/step - loss: 0.0260 - accuracy: 0.9918 - val_loss: 0.0345 - val_accuracy: 0.9897\n",
      "Epoch 78/80\n",
      "59/59 [==============================] - 10s 169ms/step - loss: 0.0237 - accuracy: 0.9926 - val_loss: 0.0250 - val_accuracy: 0.9924\n",
      "Epoch 79/80\n",
      "59/59 [==============================] - 10s 168ms/step - loss: 0.0228 - accuracy: 0.9934 - val_loss: 0.0265 - val_accuracy: 0.9923\n",
      "Epoch 80/80\n",
      "59/59 [==============================] - 10s 168ms/step - loss: 0.0225 - accuracy: 0.9931 - val_loss: 0.0254 - val_accuracy: 0.9928\n"
     ]
    }
   ],
   "source": [
    "datagen.fit(x_train)\n",
    "his = model.fit(datagen.flow(x_train, y_train, batch_size=1024), validation_data=(x_val, y_val), epochs=80, batch_size=1024)"
   ]
  },
  {
   "cell_type": "code",
   "execution_count": 12,
   "id": "2d2ccdd2-8346-47eb-b9a6-b77342a2381a",
   "metadata": {},
   "outputs": [
    {
     "name": "stdout",
     "output_type": "stream",
     "text": [
      "625/625 [==============================] - 2s 3ms/step - loss: 0.0293 - accuracy: 0.9916\n"
     ]
    },
    {
     "data": {
      "text/plain": [
       "[0.029268594458699226, 0.9915500283241272]"
      ]
     },
     "execution_count": 12,
     "metadata": {},
     "output_type": "execute_result"
    }
   ],
   "source": [
    "model.evaluate(x_test, y_test)"
   ]
  },
  {
   "cell_type": "code",
   "execution_count": 13,
   "id": "c663eb41-ae47-489d-973d-96733004f2f4",
   "metadata": {},
   "outputs": [
    {
     "data": {
      "image/png": "[encoded data removed]",
      "text/plain": [
       "<Figure size 640x480 with 1 Axes>"
      ]
     },
     "metadata": {},
     "output_type": "display_data"
    }
   ],
   "source": [
    "plt.plot(his.history['accuracy'])\n",
    "plt.plot(his.history['val_accuracy'])\n",
    "plt.title('model accuracy')\n",
    "plt.ylabel('accuracy')\n",
    "plt.xlabel('epoch')\n",
    "plt.legend(['train', 'val'], loc='upper left')\n",
    "plt.show()"
   ]
  },
  {
   "cell_type": "code",
   "execution_count": null,
   "id": "9e230387-bcf4-49d5-9b7e-a60af3975ecb",
   "metadata": {},
   "outputs": [],
   "source": []
  }
 ],
 "metadata": {
  "kernelspec": {
   "display_name": "ML",
   "language": "python",
   "name": "ml"
  },
  "language_info": {
   "codemirror_mode": {
    "name": "ipython",
    "version": 3
   },
   "file_extension": ".py",
   "mimetype": "text/x-python",
   "name": "python",
   "nbconvert_exporter": "python",
   "pygments_lexer": "ipython3",
   "version": "3.10.2"
  }
 },
 "nbformat": 4,
 "nbformat_minor": 5
}
