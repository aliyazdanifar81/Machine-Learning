{
 "cells": [
  {
   "cell_type": "code",
   "execution_count": 2,
   "id": "b503f820-fbe6-4f79-bb89-d59c1ac6ac51",
   "metadata": {},
   "outputs": [],
   "source": [
    "import sys\n",
    "import os\n",
    "sys.path.append(os.path.abspath('..'))"
   ]
  },
  {
   "cell_type": "code",
   "execution_count": 27,
   "id": "37c41407-5553-48b7-80de-c672a732e15a",
   "metadata": {},
   "outputs": [],
   "source": [
    "import matplotlib.pyplot as plt\n",
    "import numpy as np\n",
    "import random\n",
    "import cv2\n",
    "from Utils import read_hoda_dataset"
   ]
  },
  {
   "cell_type": "markdown",
   "id": "b053861d-a612-467f-bf8a-be645759a7fe",
   "metadata": {},
   "source": [
    "# Paths"
   ]
  },
  {
   "cell_type": "code",
   "execution_count": 4,
   "id": "26961a55-b6ae-4348-98fb-fba4685d5999",
   "metadata": {},
   "outputs": [],
   "source": [
    "train_path = './../Utils/Hoda/DigitDB/Train 60000.cdb'\n",
    "test_path = './../Utils/Hoda/DigitDB/Test 20000.cdb'\n",
    "extra_path = './../Utils/Hoda/DigitDB/RemainingSamples.cdb'"
   ]
  },
  {
   "cell_type": "markdown",
   "id": "e482b3e5-f8ac-46e5-813a-3c8e9d9b7f62",
   "metadata": {},
   "source": [
    "# Fetch Dataset"
   ]
  },
  {
   "cell_type": "code",
   "execution_count": 5,
   "id": "2989dbab-f649-4d89-8852-c8f1c7689874",
   "metadata": {},
   "outputs": [],
   "source": [
    "train_data, train_labels = read_hoda_dataset(dataset_path=train_path)\n",
    "test_data, test_labels = read_hoda_dataset(dataset_path=test_path)\n",
    "extra_data, extra_labels = read_hoda_dataset(dataset_path=extra_path)"
   ]
  },
  {
   "cell_type": "code",
   "execution_count": 6,
   "id": "9909a27f-af94-422e-bbba-ca9e52024757",
   "metadata": {},
   "outputs": [],
   "source": [
    "full_data = np.concatenate((train_data, test_data, extra_data)).reshape(-1, 32, 32)\n",
    "full_labels = np.concatenate((train_labels, test_labels, extra_labels))"
   ]
  },
  {
   "cell_type": "code",
   "execution_count": 59,
   "id": "15b71db4-a476-4b3b-8fe8-2c8539f2ac6c",
   "metadata": {},
   "outputs": [
    {
     "data": {
      "text/plain": [
       "(102352, 32, 32)"
      ]
     },
     "execution_count": 59,
     "metadata": {},
     "output_type": "execute_result"
    }
   ],
   "source": [
    "full_data.shape"
   ]
  },
  {
   "cell_type": "markdown",
   "id": "3718eeb0-4281-488b-b3ea-7aed03780574",
   "metadata": {},
   "source": [
    "# Functions"
   ]
  },
  {
   "cell_type": "code",
   "execution_count": 57,
   "id": "d0fb2b47-fffd-48dd-9328-827b8f1b3fdf",
   "metadata": {},
   "outputs": [],
   "source": [
    "def create_random(a, b):\n",
    "    return random.randint(a, b)"
   ]
  },
  {
   "cell_type": "code",
   "execution_count": 168,
   "id": "6ccae56a-a9be-4ccc-a95c-1d8083a25322",
   "metadata": {},
   "outputs": [],
   "source": [
    "def PersianString(n_samples, max_length, target_size:tuple=(128,32)):\n",
    "    mean = 0 \n",
    "    std_dev = 1  \n",
    "    num_samples = 1  \n",
    "    res, labels = [], []\n",
    "    for _ in range(n_samples):\n",
    "        length = random.randint(2, max_length)\n",
    "        temp_data, temp_labels = [], []\n",
    "        for _ in range(length):\n",
    "            inx = create_random(0, full_data.shape[0])\n",
    "            digit = full_data[inx]\n",
    "            label = full_labels[inx]\n",
    "            lef_right_crop = np.random.normal(mean, std_dev, num_samples)\n",
    "            x, y = digit.shape\n",
    "            if lef_right_crop < 0.5:\n",
    "                crop = random.randint(0, 10)  # Crop from the right\n",
    "                digit = digit[:, :x - crop] if x - crop > 0 else digit\n",
    "            else:\n",
    "                crop = random.randint(0, 10)  # Crop from the left\n",
    "                digit = digit[:, crop:] if crop < x else digit\n",
    "            temp_data.append(digit)\n",
    "            temp_labels.append(label)\n",
    "        res.append(cv2.resize(np.hstack(temp_data), target_size, interpolation=cv2.INTER_NEAREST))\n",
    "        if len(temp_labels) < max_length:\n",
    "            temp_labels.extend(['-']*(max_length - len(temp_labels)))\n",
    "        print(temp_labels)\n",
    "        labels.append(temp_labels)\n",
    "    return np.array(res), np.array(labels)"
   ]
  },
  {
   "cell_type": "code",
   "execution_count": 169,
   "id": "cfb5f098-eeab-4ca4-b93e-43f3d05440ac",
   "metadata": {},
   "outputs": [
    {
     "name": "stdout",
     "output_type": "stream",
     "text": [
      "[8.0, 8.0, 3.0, 9.0, 5.0, 2.0]\n",
      "[3.0, 1.0, '-', '-', '-', '-']\n",
      "[9.0, 0.0, 3.0, 6.0, '-', '-']\n",
      "[6.0, 6.0, 4.0, 4.0, '-', '-']\n",
      "[6.0, 8.0, 7.0, 7.0, '-', '-']\n",
      "[9.0, 4.0, 3.0, 7.0, 1.0, '-']\n",
      "[3.0, 8.0, 4.0, 6.0, '-', '-']\n",
      "[5.0, 5.0, 3.0, 9.0, '-', '-']\n",
      "[8.0, 6.0, 6.0, 2.0, 0.0, '-']\n",
      "[7.0, 8.0, 7.0, 1.0, 8.0, '-']\n"
     ]
    }
   ],
   "source": [
    "data, lbl = PersianString(10, 6)"
   ]
  },
  {
   "cell_type": "code",
   "execution_count": 170,
   "id": "2149d64c-05fe-4926-9196-d395e850e15f",
   "metadata": {},
   "outputs": [
    {
     "data": {
      "text/plain": [
       "(10, 32, 128)"
      ]
     },
     "execution_count": 170,
     "metadata": {},
     "output_type": "execute_result"
    }
   ],
   "source": [
    "data.shape"
   ]
  },
  {
   "cell_type": "code",
   "execution_count": 176,
   "id": "6326d436-b8bb-4335-9059-e2f6fa0da6f6",
   "metadata": {},
   "outputs": [
    {
     "data": {
      "text/plain": [
       "array(['9.0', '4.0', '3.0', '7.0', '1.0', '-'], dtype='<U32')"
      ]
     },
     "execution_count": 176,
     "metadata": {},
     "output_type": "execute_result"
    }
   ],
   "source": [
    "lbl[5]"
   ]
  },
  {
   "cell_type": "code",
   "execution_count": 175,
   "id": "6c9b994d-6c6a-48e9-89ef-b6d23cf5407f",
   "metadata": {},
   "outputs": [
    {
     "data": {
      "text/plain": [
       "<matplotlib.image.AxesImage at 0x734dd4532e00>"
      ]
     },
     "execution_count": 175,
     "metadata": {},
     "output_type": "execute_result"
    },
    {
     "data": {
      "image/png": "[encoded data removed]",
      "text/plain": [
       "<Figure size 640x480 with 1 Axes>"
      ]
     },
     "metadata": {},
     "output_type": "display_data"
    }
   ],
   "source": [
    "plt.imshow(data[5])"
   ]
  },
  {
   "cell_type": "code",
   "execution_count": 74,
   "id": "27c44dc1-2cd9-42c2-9051-2ed4ca9f5af9",
   "metadata": {},
   "outputs": [
    {
     "data": {
      "text/plain": [
       "<matplotlib.image.AxesImage at 0x734e0cb4aef0>"
      ]
     },
     "execution_count": 74,
     "metadata": {},
     "output_type": "execute_result"
    },
    {
     "data": {
      "image/png": "[encoded data removed]",
      "text/plain": [
       "<Figure size 640x480 with 1 Axes>"
      ]
     },
     "metadata": {},
     "output_type": "display_data"
    }
   ],
   "source": [
    "plt.imshow(np.hstack((full_data[0][..., 0:20], test, full_data[2])))"
   ]
  },
  {
   "cell_type": "code",
   "execution_count": null,
   "id": "4a5042a8-6459-4e17-a5e5-91039692dd6c",
   "metadata": {},
   "outputs": [],
   "source": []
  }
 ],
 "metadata": {
  "kernelspec": {
   "display_name": "Python 3 (ipykernel)",
   "language": "python",
   "name": "python3"
  },
  "language_info": {
   "codemirror_mode": {
    "name": "ipython",
    "version": 3
   },
   "file_extension": ".py",
   "mimetype": "text/x-python",
   "name": "python",
   "nbconvert_exporter": "python",
   "pygments_lexer": "ipython3",
   "version": "3.10.12"
  }
 },
 "nbformat": 4,
 "nbformat_minor": 5
}
