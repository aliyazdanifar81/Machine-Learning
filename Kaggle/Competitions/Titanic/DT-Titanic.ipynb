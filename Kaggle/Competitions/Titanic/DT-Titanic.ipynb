{
 "cells": [
  {
   "cell_type": "code",
   "execution_count": 6,
   "id": "2d85d8e1-7a6d-4da0-9ea5-8dc172d25510",
   "metadata": {},
   "outputs": [],
   "source": [
    "import sys\n",
    "sys.path.append('/home/ali/Desktop/python/Machine Learning/Dataset_custom')"
   ]
  },
  {
   "cell_type": "code",
   "execution_count": 7,
   "id": "8721b297-7fb1-4188-9ceb-26f8a4d40ad2",
   "metadata": {},
   "outputs": [
    {
     "ename": "ModuleNotFoundError",
     "evalue": "No module named 'load_data'",
     "output_type": "error",
     "traceback": [
      "\u001b[0;31m---------------------------------------------------------------------------\u001b[0m",
      "\u001b[0;31mModuleNotFoundError\u001b[0m                       Traceback (most recent call last)",
      "Cell \u001b[0;32mIn[7], line 3\u001b[0m\n\u001b[1;32m      1\u001b[0m \u001b[38;5;28;01mfrom\u001b[39;00m \u001b[38;5;21;01msklearn\u001b[39;00m\u001b[38;5;21;01m.\u001b[39;00m\u001b[38;5;21;01mpreprocessing\u001b[39;00m \u001b[38;5;28;01mimport\u001b[39;00m LabelEncoder\n\u001b[1;32m      2\u001b[0m \u001b[38;5;28;01mfrom\u001b[39;00m \u001b[38;5;21;01msklearn\u001b[39;00m\u001b[38;5;21;01m.\u001b[39;00m\u001b[38;5;21;01mtree\u001b[39;00m \u001b[38;5;28;01mimport\u001b[39;00m DecisionTreeClassifier, plot_tree\n\u001b[0;32m----> 3\u001b[0m \u001b[38;5;28;01mfrom\u001b[39;00m \u001b[38;5;21;01mload_data\u001b[39;00m \u001b[38;5;28;01mimport\u001b[39;00m LoadModel\n\u001b[1;32m      4\u001b[0m \u001b[38;5;28;01mimport\u001b[39;00m \u001b[38;5;21;01mmatplotlib\u001b[39;00m\u001b[38;5;21;01m.\u001b[39;00m\u001b[38;5;21;01mpyplot\u001b[39;00m \u001b[38;5;28;01mas\u001b[39;00m \u001b[38;5;21;01mplt\u001b[39;00m \n\u001b[1;32m      5\u001b[0m \u001b[38;5;28;01mimport\u001b[39;00m \u001b[38;5;21;01mpandas\u001b[39;00m \u001b[38;5;28;01mas\u001b[39;00m \u001b[38;5;21;01mpd\u001b[39;00m\n",
      "\u001b[0;31mModuleNotFoundError\u001b[0m: No module named 'load_data'"
     ]
    }
   ],
   "source": [
    "from sklearn.preprocessing import LabelEncoder\n",
    "from sklearn.tree import DecisionTreeClassifier, plot_tree\n",
    "from load_data import LoadModel\n",
    "import matplotlib.pyplot as plt \n",
    "import pandas as pd"
   ]
  },
  {
   "cell_type": "code",
   "execution_count": 22,
   "id": "29074e2a-de5e-41a9-91d3-05eaef4cd21f",
   "metadata": {},
   "outputs": [],
   "source": [
    "train, test = LoadModel().load_titanic()"
   ]
  },
  {
   "cell_type": "code",
   "execution_count": 23,
   "id": "917399b4-862a-4229-8273-aacd04359bb9",
   "metadata": {},
   "outputs": [],
   "source": [
    "x_train, y_train = train.drop([\"PassengerId\", \"Name\", \"Survived\"], axis=1), train[\"Survived\"]\n",
    "mode = x_train.mode().iloc[0]\n",
    "mode[\"Cabin\"] = \"B96\"\n",
    "x_train = x_train.fillna(mode)\n",
    "encoded = LabelEncoder()\n",
    "x_train[\"Cabin\"] = encoded.fit_transform(x_train[\"Cabin\"])\n",
    "x_train[\"Ticket\"] = encoded.fit_transform(x_train[\"Ticket\"])\n",
    "x_train[\"Sex\"] = encoded.fit_transform(x_train[\"Sex\"])\n",
    "x_train[\"Embarked\"] = encoded.fit_transform(x_train[\"Embarked\"])"
   ]
  },
  {
   "cell_type": "code",
   "execution_count": 24,
   "id": "410a623e-8bf2-4eb7-8165-88829ef0019a",
   "metadata": {},
   "outputs": [],
   "source": [
    "out_test = test\n",
    "test = test.drop([\"PassengerId\", \"Name\"], axis=1)\n",
    "mode = test.mode().iloc[0]\n",
    "mode[\"Cabin\"] = \"B57\"\n",
    "test = test.fillna(mode)\n",
    "encoded = LabelEncoder()\n",
    "test[\"Cabin\"] = encoded.fit_transform(test[\"Cabin\"])\n",
    "test[\"Ticket\"] = encoded.fit_transform(test[\"Ticket\"])\n",
    "test[\"Sex\"] = encoded.fit_transform(test[\"Sex\"])\n",
    "test[\"Embarked\"] = encoded.fit_transform(test[\"Embarked\"])"
   ]
  },
  {
   "cell_type": "code",
   "execution_count": 25,
   "id": "02d0ca5b-e512-4f21-a020-e665b868e296",
   "metadata": {},
   "outputs": [],
   "source": [
    "model = DecisionTreeClassifier().fit(x_train, y_train)"
   ]
  },
  {
   "cell_type": "code",
   "execution_count": 26,
   "id": "43a43275-fe2a-4e2f-9227-b12d64ffb3b0",
   "metadata": {},
   "outputs": [],
   "source": [
    "prediction = model.predict(test)"
   ]
  },
  {
   "cell_type": "code",
   "execution_count": 27,
   "id": "27747fbb-44b0-4a5a-bb8f-17487e195812",
   "metadata": {},
   "outputs": [],
   "source": [
    "output = pd.DataFrame({'PassengerId': out_test.PassengerId, 'Survived': prediction})"
   ]
  },
  {
   "cell_type": "code",
   "execution_count": 28,
   "id": "3d3becb6-9ad6-4ec3-bb41-0a1712e0d999",
   "metadata": {},
   "outputs": [],
   "source": [
    "output.to_csv('submission-DT.csv', index=False)"
   ]
  },
  {
   "cell_type": "code",
   "execution_count": null,
   "id": "ae672213-c285-41a4-ad1e-2af55cfe1004",
   "metadata": {},
   "outputs": [],
   "source": []
  }
 ],
 "metadata": {
  "kernelspec": {
   "display_name": "Python 3 (ipykernel)",
   "language": "python",
   "name": "python3"
  },
  "language_info": {
   "codemirror_mode": {
    "name": "ipython",
    "version": 3
   },
   "file_extension": ".py",
   "mimetype": "text/x-python",
   "name": "python",
   "nbconvert_exporter": "python",
   "pygments_lexer": "ipython3",
   "version": "3.10.12"
  }
 },
 "nbformat": 4,
 "nbformat_minor": 5
}
